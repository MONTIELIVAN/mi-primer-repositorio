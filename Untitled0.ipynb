{
  "nbformat": 4,
  "nbformat_minor": 0,
  "metadata": {
    "colab": {
      "provenance": [],
      "authorship_tag": "ABX9TyMpxsK+V6lbELnCFFkRpjWq",
      "include_colab_link": true
    },
    "kernelspec": {
      "name": "python3",
      "display_name": "Python 3"
    },
    "language_info": {
      "name": "python"
    }
  },
  "cells": [
    {
      "cell_type": "markdown",
      "metadata": {
        "id": "view-in-github",
        "colab_type": "text"
      },
      "source": [
        "<a href=\"https://colab.research.google.com/github/MONTIELIVAN/mi-primer-repositorio/blob/main/Untitled0.ipynb\" target=\"_parent\"><img src=\"https://colab.research.google.com/assets/colab-badge.svg\" alt=\"Open In Colab\"/></a>"
      ]
    },
    {
      "cell_type": "code",
      "execution_count": 12,
      "metadata": {
        "colab": {
          "base_uri": "https://localhost:8080/"
        },
        "collapsed": true,
        "id": "1g_rbr1bjCak",
        "outputId": "fde46205-d2bd-4f78-d888-32e6d6c9685f"
      },
      "outputs": [
        {
          "output_type": "stream",
          "name": "stdout",
          "text": [
            "hola ivan\n"
          ]
        }
      ],
      "source": [
        " name=\"ivan\"\n",
        " print(\"hola\", name )"
      ]
    },
    {
      "cell_type": "code",
      "source": [],
      "metadata": {
        "id": "Za0_xp4gtZwd"
      },
      "execution_count": null,
      "outputs": []
    }
  ]
}